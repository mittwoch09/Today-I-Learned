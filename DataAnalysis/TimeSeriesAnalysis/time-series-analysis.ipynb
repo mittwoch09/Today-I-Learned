{
 "cells": [
  {
   "cell_type": "markdown",
   "id": "e3efab27",
   "metadata": {},
   "source": [
    "### Time Series Analysis\n",
    "\n",
    "Time series analysis is one of the most common types of analysis done with SQL. A `time seires` is a sequence of measurements or data points recorded in time order, often at regularly spaced intervals.\n",
    "\n",
    "Forecasting is a common goal of time series analysis. Since time only marches forward, future values can be expressed as a function of past values, while the reverse is not ture. However, it's important to note that the past doesn't perfectly predict the future.\n",
    "\n",
    "Still, looking at historical data can lead to insights, and developing a range of plausible outcomes is useful for planning."
   ]
  },
  {
   "cell_type": "markdown",
   "id": "ed8bd0c8",
   "metadata": {},
   "source": [
    "#### The Retail Sales Data Set\n",
    "\n",
    "The examples use a data set of montly US retail sales from the [Montly Retail Trade Report: Retail and Food Services Sales: Excel (1992-2020)](https://www.census.gov/retail/index.html#mrts).\n",
    "\n",
    "The data in this report is uesd as an economic indicator to understand trends in US consumer spending patterns.\n",
    "\n",
    "While gross domestic product(GDP) figures are published quarterly, this retail sales data is published monthly, so it is also used to help predict GDP.\n",
    "\n",
    "The data spans from 1992 to 2020 and includes both total sales as well as details for subcategories of retail sales.\n",
    "\n",
    "Sales figures are in millions of US dollars."
   ]
  },
  {
   "cell_type": "code",
   "execution_count": 2,
   "id": "79e00d52",
   "metadata": {},
   "outputs": [],
   "source": [
    "import pandas as pd\n",
    "import sqlite3\n",
    "\n",
    "df = pd.read_csv('us_retail_sales.csv')\n",
    "\n",
    "conn = sqlite3.connect(\"sql-analysis.db\")\n",
    "#df.to_sql('retail_sales', conn)"
   ]
  },
  {
   "cell_type": "code",
   "execution_count": 3,
   "id": "72ef953d",
   "metadata": {},
   "outputs": [],
   "source": [
    "import matplotlib as mpl\n",
    "import matplotlib.pyplot as plt"
   ]
  },
  {
   "cell_type": "markdown",
   "id": "70661e80",
   "metadata": {},
   "source": [
    "#### Simple Trends"
   ]
  },
  {
   "cell_type": "code",
   "execution_count": 4,
   "id": "ce4cf6e7",
   "metadata": {},
   "outputs": [
    {
     "data": {
      "text/html": [
       "<div>\n",
       "<style scoped>\n",
       "    .dataframe tbody tr th:only-of-type {\n",
       "        vertical-align: middle;\n",
       "    }\n",
       "\n",
       "    .dataframe tbody tr th {\n",
       "        vertical-align: top;\n",
       "    }\n",
       "\n",
       "    .dataframe thead th {\n",
       "        text-align: right;\n",
       "    }\n",
       "</style>\n",
       "<table border=\"1\" class=\"dataframe\">\n",
       "  <thead>\n",
       "    <tr style=\"text-align: right;\">\n",
       "      <th></th>\n",
       "      <th>sales_month</th>\n",
       "      <th>sales</th>\n",
       "    </tr>\n",
       "  </thead>\n",
       "  <tbody>\n",
       "    <tr>\n",
       "      <th>0</th>\n",
       "      <td>1992-01-01</td>\n",
       "      <td>146376.0</td>\n",
       "    </tr>\n",
       "    <tr>\n",
       "      <th>1</th>\n",
       "      <td>1992-02-01</td>\n",
       "      <td>147079.0</td>\n",
       "    </tr>\n",
       "    <tr>\n",
       "      <th>2</th>\n",
       "      <td>1992-03-01</td>\n",
       "      <td>159336.0</td>\n",
       "    </tr>\n",
       "    <tr>\n",
       "      <th>3</th>\n",
       "      <td>1992-04-01</td>\n",
       "      <td>163669.0</td>\n",
       "    </tr>\n",
       "    <tr>\n",
       "      <th>4</th>\n",
       "      <td>1992-05-01</td>\n",
       "      <td>170068.0</td>\n",
       "    </tr>\n",
       "  </tbody>\n",
       "</table>\n",
       "</div>"
      ],
      "text/plain": [
       "  sales_month     sales\n",
       "0  1992-01-01  146376.0\n",
       "1  1992-02-01  147079.0\n",
       "2  1992-03-01  159336.0\n",
       "3  1992-04-01  163669.0\n",
       "4  1992-05-01  170068.0"
      ]
     },
     "execution_count": 4,
     "metadata": {},
     "output_type": "execute_result"
    }
   ],
   "source": [
    "query_01 = \"\"\"\n",
    "        SELECT sales_month, sales\n",
    "        FROM retail_sales\n",
    "        WHERE kind_of_business = 'Retail and food services sales, total'\n",
    "        \"\"\"\n",
    "\n",
    "sql_01 = pd.read_sql(query_01, conn)\n",
    "sql_01.head()"
   ]
  },
  {
   "cell_type": "markdown",
   "id": "f6c1bcf2",
   "metadata": {},
   "source": [
    "<img align=\"left\" width=\"437\" alt=\"Screen Shot 2022-04-18 at 4 28 01 PM\" src=\"https://user-images.githubusercontent.com/73784742/163780536-143cd751-373d-4d84-9e19-763575601ccf.png\">"
   ]
  },
  {
   "cell_type": "markdown",
   "id": "0e7a315d",
   "metadata": {},
   "source": [
    "This data clearly has some patterns, but it also has some noise. Transforming the data and aggregating at the yearly level can help us gain a better understanding."
   ]
  },
  {
   "cell_type": "code",
   "execution_count": 5,
   "id": "76992f09",
   "metadata": {},
   "outputs": [
    {
     "data": {
      "text/plain": [
       "'\\nplt.subplots(figsize=(12, 8))\\nplt.plot(sql_01[\\'sales_month\\'], sql_01[\\'sales\\'])\\n\\nplt.title(\"Monthly Retail and Food Services Sales\")\\nplt.xlabel(\"Month\")\\nplt.ylabel(\"$MM Sales\")\\n\\nplt.xticks(ticks=sql_01[\\'sales_month\\'], labels=sql_01[\\'sales_month\\'], rotation=45)\\nplt.locator_params(axis=\\'x\\', nbins=len(sql_01[\\'sales_month\\'])/12)\\n\\nplt.show();\\n'"
      ]
     },
     "execution_count": 5,
     "metadata": {},
     "output_type": "execute_result"
    }
   ],
   "source": [
    "'''\n",
    "plt.subplots(figsize=(12, 8))\n",
    "plt.plot(sql_01['sales_month'], sql_01['sales'])\n",
    "\n",
    "plt.title(\"Monthly Retail and Food Services Sales\")\n",
    "plt.xlabel(\"Month\")\n",
    "plt.ylabel(\"$MM Sales\")\n",
    "\n",
    "plt.xticks(ticks=sql_01['sales_month'], labels=sql_01['sales_month'], rotation=45)\n",
    "plt.locator_params(axis='x', nbins=len(sql_01['sales_month'])/12)\n",
    "\n",
    "plt.show();\n",
    "'''"
   ]
  },
  {
   "cell_type": "code",
   "execution_count": 6,
   "id": "416862bf",
   "metadata": {},
   "outputs": [
    {
     "data": {
      "text/html": [
       "<div>\n",
       "<style scoped>\n",
       "    .dataframe tbody tr th:only-of-type {\n",
       "        vertical-align: middle;\n",
       "    }\n",
       "\n",
       "    .dataframe tbody tr th {\n",
       "        vertical-align: top;\n",
       "    }\n",
       "\n",
       "    .dataframe thead th {\n",
       "        text-align: right;\n",
       "    }\n",
       "</style>\n",
       "<table border=\"1\" class=\"dataframe\">\n",
       "  <thead>\n",
       "    <tr style=\"text-align: right;\">\n",
       "      <th></th>\n",
       "      <th>sales_year</th>\n",
       "      <th>sales</th>\n",
       "    </tr>\n",
       "  </thead>\n",
       "  <tbody>\n",
       "    <tr>\n",
       "      <th>0</th>\n",
       "      <td>1992</td>\n",
       "      <td>2014102.0</td>\n",
       "    </tr>\n",
       "    <tr>\n",
       "      <th>1</th>\n",
       "      <td>1993</td>\n",
       "      <td>2153095.0</td>\n",
       "    </tr>\n",
       "    <tr>\n",
       "      <th>2</th>\n",
       "      <td>1994</td>\n",
       "      <td>2330235.0</td>\n",
       "    </tr>\n",
       "    <tr>\n",
       "      <th>3</th>\n",
       "      <td>1995</td>\n",
       "      <td>2450628.0</td>\n",
       "    </tr>\n",
       "    <tr>\n",
       "      <th>4</th>\n",
       "      <td>1996</td>\n",
       "      <td>2603794.0</td>\n",
       "    </tr>\n",
       "  </tbody>\n",
       "</table>\n",
       "</div>"
      ],
      "text/plain": [
       "  sales_year      sales\n",
       "0       1992  2014102.0\n",
       "1       1993  2153095.0\n",
       "2       1994  2330235.0\n",
       "3       1995  2450628.0\n",
       "4       1996  2603794.0"
      ]
     },
     "execution_count": 6,
     "metadata": {},
     "output_type": "execute_result"
    }
   ],
   "source": [
    "query_02 = \"\"\"\n",
    "        SELECT strftime('%Y', sales_month) AS sales_year, SUM(sales) AS sales\n",
    "        FROM retail_sales\n",
    "        WHERE kind_of_business = 'Retail and food services sales, total'\n",
    "        GROUP BY sales_year\n",
    "        \"\"\"\n",
    "\n",
    "sql_02 = pd.read_sql(query_02, conn)\n",
    "sql_02.head()"
   ]
  },
  {
   "cell_type": "markdown",
   "id": "1d7c2b42",
   "metadata": {},
   "source": [
    "<img align=\"left\" width=\"435\" alt=\"Screen Shot 2022-04-18 at 4 31 29 PM\" src=\"https://user-images.githubusercontent.com/73784742/163781000-f42f328b-51a9-4131-8819-1eb89433d8b5.png\">"
   ]
  },
  {
   "cell_type": "code",
   "execution_count": 7,
   "id": "d4e07013",
   "metadata": {},
   "outputs": [
    {
     "data": {
      "text/plain": [
       "'\\nplt.subplots(figsize=(12, 8))\\nplt.plot(sql_02[\\'sales_year\\'], sql_02[\\'sales\\'])\\n\\nplt.gcf().axes[0].yaxis.get_major_formatter().set_scientific(False)\\n\\nplt.title(\"Yearly Total Retail and Food Services Sales\")\\nplt.xlabel(\"Year\")\\nplt.ylabel(\"$MM Sales\")\\nplt.xticks(ticks=sql_02[\\'sales_year\\'], labels=sql_02[\\'sales_year\\'], rotation=45)\\nplt.locator_params(axis=\\'x\\', nbins=len(sql_02[\\'sales_year\\']))\\n\\nplt.show();\\n'"
      ]
     },
     "execution_count": 7,
     "metadata": {},
     "output_type": "execute_result"
    }
   ],
   "source": [
    "'''\n",
    "plt.subplots(figsize=(12, 8))\n",
    "plt.plot(sql_02['sales_year'], sql_02['sales'])\n",
    "\n",
    "plt.gcf().axes[0].yaxis.get_major_formatter().set_scientific(False)\n",
    "\n",
    "plt.title(\"Yearly Total Retail and Food Services Sales\")\n",
    "plt.xlabel(\"Year\")\n",
    "plt.ylabel(\"$MM Sales\")\n",
    "plt.xticks(ticks=sql_02['sales_year'], labels=sql_02['sales_year'], rotation=45)\n",
    "plt.locator_params(axis='x', nbins=len(sql_02['sales_year']))\n",
    "\n",
    "plt.show();\n",
    "'''"
   ]
  },
  {
   "cell_type": "markdown",
   "id": "401c6e10",
   "metadata": {},
   "source": [
    "After graphing this data, we now have a smoother time series that is generally incresing over time, as might be expected, since the sales values are not adjusted for inflation. Sales for all retail and food services fell in 2009, during the global financial crsis. After growing every year throughout the 2010s, sales were flat in 2020 compared to 2019, due to the impact of the COVID-19 pandemic."
   ]
  },
  {
   "cell_type": "markdown",
   "id": "129e3111",
   "metadata": {},
   "source": [
    "#### Comparing Components"
   ]
  },
  {
   "cell_type": "code",
   "execution_count": 8,
   "id": "ff784204",
   "metadata": {},
   "outputs": [
    {
     "data": {
      "text/html": [
       "<div>\n",
       "<style scoped>\n",
       "    .dataframe tbody tr th:only-of-type {\n",
       "        vertical-align: middle;\n",
       "    }\n",
       "\n",
       "    .dataframe tbody tr th {\n",
       "        vertical-align: top;\n",
       "    }\n",
       "\n",
       "    .dataframe thead th {\n",
       "        text-align: right;\n",
       "    }\n",
       "</style>\n",
       "<table border=\"1\" class=\"dataframe\">\n",
       "  <thead>\n",
       "    <tr style=\"text-align: right;\">\n",
       "      <th></th>\n",
       "      <th>sales_year</th>\n",
       "      <th>kind_of_business</th>\n",
       "      <th>sales</th>\n",
       "    </tr>\n",
       "  </thead>\n",
       "  <tbody>\n",
       "    <tr>\n",
       "      <th>0</th>\n",
       "      <td>1992</td>\n",
       "      <td>Book stores</td>\n",
       "      <td>8327.0</td>\n",
       "    </tr>\n",
       "    <tr>\n",
       "      <th>1</th>\n",
       "      <td>1992</td>\n",
       "      <td>Hobby, toy, and game stores</td>\n",
       "      <td>11251.0</td>\n",
       "    </tr>\n",
       "    <tr>\n",
       "      <th>2</th>\n",
       "      <td>1992</td>\n",
       "      <td>Sporting goods stores</td>\n",
       "      <td>15583.0</td>\n",
       "    </tr>\n",
       "    <tr>\n",
       "      <th>3</th>\n",
       "      <td>1993</td>\n",
       "      <td>Book stores</td>\n",
       "      <td>9108.0</td>\n",
       "    </tr>\n",
       "    <tr>\n",
       "      <th>4</th>\n",
       "      <td>1993</td>\n",
       "      <td>Hobby, toy, and game stores</td>\n",
       "      <td>11651.0</td>\n",
       "    </tr>\n",
       "    <tr>\n",
       "      <th>...</th>\n",
       "      <td>...</td>\n",
       "      <td>...</td>\n",
       "      <td>...</td>\n",
       "    </tr>\n",
       "    <tr>\n",
       "      <th>82</th>\n",
       "      <td>2019</td>\n",
       "      <td>Hobby, toy, and game stores</td>\n",
       "      <td>16261.0</td>\n",
       "    </tr>\n",
       "    <tr>\n",
       "      <th>83</th>\n",
       "      <td>2019</td>\n",
       "      <td>Sporting goods stores</td>\n",
       "      <td>43808.0</td>\n",
       "    </tr>\n",
       "    <tr>\n",
       "      <th>84</th>\n",
       "      <td>2020</td>\n",
       "      <td>Book stores</td>\n",
       "      <td>6425.0</td>\n",
       "    </tr>\n",
       "    <tr>\n",
       "      <th>85</th>\n",
       "      <td>2020</td>\n",
       "      <td>Hobby, toy, and game stores</td>\n",
       "      <td>17287.0</td>\n",
       "    </tr>\n",
       "    <tr>\n",
       "      <th>86</th>\n",
       "      <td>2020</td>\n",
       "      <td>Sporting goods stores</td>\n",
       "      <td>53344.0</td>\n",
       "    </tr>\n",
       "  </tbody>\n",
       "</table>\n",
       "<p>87 rows × 3 columns</p>\n",
       "</div>"
      ],
      "text/plain": [
       "   sales_year             kind_of_business    sales\n",
       "0        1992                  Book stores   8327.0\n",
       "1        1992  Hobby, toy, and game stores  11251.0\n",
       "2        1992        Sporting goods stores  15583.0\n",
       "3        1993                  Book stores   9108.0\n",
       "4        1993  Hobby, toy, and game stores  11651.0\n",
       "..        ...                          ...      ...\n",
       "82       2019  Hobby, toy, and game stores  16261.0\n",
       "83       2019        Sporting goods stores  43808.0\n",
       "84       2020                  Book stores   6425.0\n",
       "85       2020  Hobby, toy, and game stores  17287.0\n",
       "86       2020        Sporting goods stores  53344.0\n",
       "\n",
       "[87 rows x 3 columns]"
      ]
     },
     "execution_count": 8,
     "metadata": {},
     "output_type": "execute_result"
    }
   ],
   "source": [
    "query_03 = \"\"\"\n",
    "        SELECT strftime('%Y', sales_month) AS sales_year, kind_of_business, SUM(sales) AS sales\n",
    "        FROM retail_sales\n",
    "        WHERE kind_of_business IN ('Book stores', 'Sporting goods stores', 'Hobby, toy, and game stores')\n",
    "        GROUP BY sales_year, sales\n",
    "        \"\"\"\n",
    "\n",
    "sql_03 = pd.read_sql(query_03, conn)\n",
    "sql_03"
   ]
  },
  {
   "cell_type": "markdown",
   "id": "fcfa0d2c",
   "metadata": {},
   "source": [
    "<img align=\"left\" width=\"435\" alt=\"Screen Shot 2022-04-18 at 4 40 33 PM\" src=\"https://user-images.githubusercontent.com/73784742/163782175-0fc4e8a8-54a5-4356-8248-d27c7c5fed88.png\"> "
   ]
  },
  {
   "cell_type": "markdown",
   "id": "c9ae4a28",
   "metadata": {},
   "source": [
    "Sales at sporting goods retailers started the highest among the three categories and grew much faster during the time period, and by the end of the time series, those sales were substantially higher. Sales at sporting goods sotres started declining in 2017 but had a big rebound in 2020. Sales at hobby, toy, and games stores were relatively flat over this time span, with a slight dip in the mid-2000s and another slight decline prior to a rebound 2020. Sales at book stores grew until the mid-2000s and have been on the decline since then."
   ]
  },
  {
   "cell_type": "code",
   "execution_count": 17,
   "id": "89ac6020",
   "metadata": {},
   "outputs": [
    {
     "data": {
      "text/html": [
       "<div>\n",
       "<style scoped>\n",
       "    .dataframe tbody tr th:only-of-type {\n",
       "        vertical-align: middle;\n",
       "    }\n",
       "\n",
       "    .dataframe tbody tr th {\n",
       "        vertical-align: top;\n",
       "    }\n",
       "\n",
       "    .dataframe thead th {\n",
       "        text-align: right;\n",
       "    }\n",
       "</style>\n",
       "<table border=\"1\" class=\"dataframe\">\n",
       "  <thead>\n",
       "    <tr style=\"text-align: right;\">\n",
       "      <th></th>\n",
       "      <th>sales_year</th>\n",
       "      <th>kind_of_business</th>\n",
       "      <th>sales</th>\n",
       "    </tr>\n",
       "  </thead>\n",
       "  <tbody>\n",
       "    <tr>\n",
       "      <th>0</th>\n",
       "      <td>1992</td>\n",
       "      <td>Men's clothing stores</td>\n",
       "      <td>10179.0</td>\n",
       "    </tr>\n",
       "    <tr>\n",
       "      <th>1</th>\n",
       "      <td>1992</td>\n",
       "      <td>Women's clothing stores</td>\n",
       "      <td>31815.0</td>\n",
       "    </tr>\n",
       "    <tr>\n",
       "      <th>2</th>\n",
       "      <td>1993</td>\n",
       "      <td>Men's clothing stores</td>\n",
       "      <td>9962.0</td>\n",
       "    </tr>\n",
       "    <tr>\n",
       "      <th>3</th>\n",
       "      <td>1993</td>\n",
       "      <td>Women's clothing stores</td>\n",
       "      <td>32350.0</td>\n",
       "    </tr>\n",
       "    <tr>\n",
       "      <th>4</th>\n",
       "      <td>1994</td>\n",
       "      <td>Men's clothing stores</td>\n",
       "      <td>10032.0</td>\n",
       "    </tr>\n",
       "  </tbody>\n",
       "</table>\n",
       "</div>"
      ],
      "text/plain": [
       "  sales_year         kind_of_business    sales\n",
       "0       1992    Men's clothing stores  10179.0\n",
       "1       1992  Women's clothing stores  31815.0\n",
       "2       1993    Men's clothing stores   9962.0\n",
       "3       1993  Women's clothing stores  32350.0\n",
       "4       1994    Men's clothing stores  10032.0"
      ]
     },
     "execution_count": 17,
     "metadata": {},
     "output_type": "execute_result"
    }
   ],
   "source": [
    "query_04 = \"\"\"\n",
    "        SELECT strftime('%Y', sales_month) AS sales_year, kind_of_business, SUM(sales) AS sales\n",
    "        FROM retail_sales\n",
    "        WHERE kind_of_business IN ('Men''s clothing stores', 'Women''s clothing stores')\n",
    "        GROUP BY sales_year, kind_of_business\n",
    "        \"\"\"\n",
    "\n",
    "sql_04 = pd.read_sql(query_04, conn)\n",
    "sql_04.head()"
   ]
  },
  {
   "cell_type": "markdown",
   "id": "41bdb3d8",
   "metadata": {},
   "source": [
    "<img align=\"left\" width=\"435\" alt=\"Screen Shot 2022-04-18 at 7 49 03 PM\" src=\"https://user-images.githubusercontent.com/73784742/163804053-ee0df89b-f073-4720-be07-7c9cab0c414c.png\">"
   ]
  },
  {
   "cell_type": "markdown",
   "id": "91b41373",
   "metadata": {},
   "source": [
    "The gap between men’s and women’s sales does not appear constant but rather was increasing during the early to mid-2000s. Women’s clothing sales in particular dipped during the global financial crisis of 2008–2009, and sales in both categories dropped a lot during the pandemic in 2020."
   ]
  },
  {
   "cell_type": "code",
   "execution_count": 16,
   "id": "33361bd7",
   "metadata": {},
   "outputs": [
    {
     "data": {
      "text/html": [
       "<div>\n",
       "<style scoped>\n",
       "    .dataframe tbody tr th:only-of-type {\n",
       "        vertical-align: middle;\n",
       "    }\n",
       "\n",
       "    .dataframe tbody tr th {\n",
       "        vertical-align: top;\n",
       "    }\n",
       "\n",
       "    .dataframe thead th {\n",
       "        text-align: right;\n",
       "    }\n",
       "</style>\n",
       "<table border=\"1\" class=\"dataframe\">\n",
       "  <thead>\n",
       "    <tr style=\"text-align: right;\">\n",
       "      <th></th>\n",
       "      <th>sales_year</th>\n",
       "      <th>womens_sales</th>\n",
       "      <th>mens_sales</th>\n",
       "    </tr>\n",
       "  </thead>\n",
       "  <tbody>\n",
       "    <tr>\n",
       "      <th>0</th>\n",
       "      <td>1992</td>\n",
       "      <td>31815.0</td>\n",
       "      <td>10179.0</td>\n",
       "    </tr>\n",
       "    <tr>\n",
       "      <th>1</th>\n",
       "      <td>1993</td>\n",
       "      <td>32350.0</td>\n",
       "      <td>9962.0</td>\n",
       "    </tr>\n",
       "    <tr>\n",
       "      <th>2</th>\n",
       "      <td>1994</td>\n",
       "      <td>30585.0</td>\n",
       "      <td>10032.0</td>\n",
       "    </tr>\n",
       "    <tr>\n",
       "      <th>3</th>\n",
       "      <td>1995</td>\n",
       "      <td>28696.0</td>\n",
       "      <td>9315.0</td>\n",
       "    </tr>\n",
       "    <tr>\n",
       "      <th>4</th>\n",
       "      <td>1996</td>\n",
       "      <td>28238.0</td>\n",
       "      <td>9546.0</td>\n",
       "    </tr>\n",
       "  </tbody>\n",
       "</table>\n",
       "</div>"
      ],
      "text/plain": [
       "  sales_year  womens_sales  mens_sales\n",
       "0       1992       31815.0     10179.0\n",
       "1       1993       32350.0      9962.0\n",
       "2       1994       30585.0     10032.0\n",
       "3       1995       28696.0      9315.0\n",
       "4       1996       28238.0      9546.0"
      ]
     },
     "execution_count": 16,
     "metadata": {},
     "output_type": "execute_result"
    }
   ],
   "source": [
    "query_05 = \"\"\"\n",
    "        SELECT strftime('%Y', sales_month) AS sales_year,\n",
    "            SUM(CASE WHEN kind_of_business = 'Women''s clothing stores'\n",
    "                THEN sales\n",
    "                END) AS womens_sales,\n",
    "            SUM(CASE WHEN kind_of_business = 'Men''s clothing stores'\n",
    "                THEN sales\n",
    "                END) AS mens_sales\n",
    "        FROM retail_sales\n",
    "        WHERE kind_of_business IN ('Men''s clothing stores', 'Women''s clothing stores')\n",
    "        GROUP BY sales_year\n",
    "        \"\"\"\n",
    "\n",
    "sql_05 = pd.read_sql(query_05, conn)\n",
    "sql_05.head()"
   ]
  },
  {
   "cell_type": "code",
   "execution_count": 20,
   "id": "b542f34a",
   "metadata": {},
   "outputs": [
    {
     "data": {
      "text/html": [
       "<div>\n",
       "<style scoped>\n",
       "    .dataframe tbody tr th:only-of-type {\n",
       "        vertical-align: middle;\n",
       "    }\n",
       "\n",
       "    .dataframe tbody tr th {\n",
       "        vertical-align: top;\n",
       "    }\n",
       "\n",
       "    .dataframe thead th {\n",
       "        text-align: right;\n",
       "    }\n",
       "</style>\n",
       "<table border=\"1\" class=\"dataframe\">\n",
       "  <thead>\n",
       "    <tr style=\"text-align: right;\">\n",
       "      <th></th>\n",
       "      <th>sales_year</th>\n",
       "      <th>womens_minus_mens</th>\n",
       "    </tr>\n",
       "  </thead>\n",
       "  <tbody>\n",
       "    <tr>\n",
       "      <th>0</th>\n",
       "      <td>1992</td>\n",
       "      <td>21636.0</td>\n",
       "    </tr>\n",
       "    <tr>\n",
       "      <th>1</th>\n",
       "      <td>1993</td>\n",
       "      <td>22388.0</td>\n",
       "    </tr>\n",
       "    <tr>\n",
       "      <th>2</th>\n",
       "      <td>1994</td>\n",
       "      <td>20553.0</td>\n",
       "    </tr>\n",
       "    <tr>\n",
       "      <th>3</th>\n",
       "      <td>1995</td>\n",
       "      <td>19381.0</td>\n",
       "    </tr>\n",
       "    <tr>\n",
       "      <th>4</th>\n",
       "      <td>1996</td>\n",
       "      <td>18692.0</td>\n",
       "    </tr>\n",
       "  </tbody>\n",
       "</table>\n",
       "</div>"
      ],
      "text/plain": [
       "  sales_year  womens_minus_mens\n",
       "0       1992            21636.0\n",
       "1       1993            22388.0\n",
       "2       1994            20553.0\n",
       "3       1995            19381.0\n",
       "4       1996            18692.0"
      ]
     },
     "execution_count": 20,
     "metadata": {},
     "output_type": "execute_result"
    }
   ],
   "source": [
    "query_06 = \"\"\"    \n",
    "        SELECT sales_year,\n",
    "            womens_sales - mens_sales AS womens_minus_mens\n",
    "        FROM\n",
    "        (\n",
    "            SELECT strftime('%Y', sales_month) AS sales_year,\n",
    "                SUM(CASE WHEN kind_of_business = 'Women''s clothing stores'\n",
    "                    THEN sales\n",
    "                    END) AS womens_sales,\n",
    "                SUM(CASE WHEN kind_of_business = 'Men''s clothing stores'\n",
    "                    THEN sales\n",
    "                    END) AS mens_sales\n",
    "                FROM retail_sales\n",
    "                WHERE kind_of_business in ('Men''s clothing stores','Women''s clothing stores')\n",
    "                AND sales_month <= '2019-12-01'\n",
    "                GROUP BY 1\n",
    "        )\n",
    "        \"\"\"\n",
    "        \n",
    "sql_06 = pd.read_sql(query_06, conn)\n",
    "sql_06.head()       "
   ]
  },
  {
   "cell_type": "markdown",
   "id": "bc0594c3",
   "metadata": {},
   "source": [
    "<img align=\"left\" width=\"443\" alt=\"Screen Shot 2022-04-18 at 8 09 16 PM\" src=\"https://user-images.githubusercontent.com/73784742/163806248-93b1b5c3-692f-45f1-94b8-801e52d63858.png\">"
   ]
  },
  {
   "cell_type": "markdown",
   "id": "522356e9",
   "metadata": {},
   "source": [
    "The gap decreased between 1992 and about 1997, began a long increase through about 2011 (with a brief dip in 2007), and then was more or less flat through 2019."
   ]
  },
  {
   "cell_type": "markdown",
   "id": "c46ac1dd",
   "metadata": {},
   "source": [
    "#### Percent of Total Calculations"
   ]
  },
  {
   "cell_type": "code",
   "execution_count": null,
   "id": "1146fb93",
   "metadata": {},
   "outputs": [],
   "source": []
  }
 ],
 "metadata": {
  "kernelspec": {
   "display_name": "Python 3",
   "language": "python",
   "name": "python3"
  },
  "language_info": {
   "codemirror_mode": {
    "name": "ipython",
    "version": 3
   },
   "file_extension": ".py",
   "mimetype": "text/x-python",
   "name": "python",
   "nbconvert_exporter": "python",
   "pygments_lexer": "ipython3",
   "version": "3.8.8"
  }
 },
 "nbformat": 4,
 "nbformat_minor": 5
}
