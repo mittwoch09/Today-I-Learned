{
 "cells": [
  {
   "cell_type": "markdown",
   "id": "e3efab27",
   "metadata": {},
   "source": [
    "### Time Series Analysis\n",
    "\n",
    "Time series analysis is one of the most common types of analysis done with SQL. A `time seires` is a sequence of measurements or data points recorded in time order, often at regularly spaced intervals.\n",
    "\n",
    "Forecasting is a common goal of time series analysis. Since time only marches forward, future values can be expressed as a function of past values, while the reverse is not ture. However, it's important to note that the past doesn't perfectly predict the future.\n",
    "\n",
    "Still, looking at historical data can lead to insights, and developing a range of plausible outcomes is useful for planning."
   ]
  },
  {
   "cell_type": "markdown",
   "id": "ed8bd0c8",
   "metadata": {},
   "source": [
    "#### The Retail Sales Data Set\n",
    "\n",
    "The examples use a data set of montly US retail sales from the [Montly Retail Trade Report: Retail and Food Services Sales: Excel (1992-2020)](https://www.census.gov/retail/index.html#mrts).\n",
    "\n",
    "The data in this report is uesd as an economic indicator to understand trends in US consumer spending patterns.\n",
    "\n",
    "While gross domestic product(GDP) figures are published quarterly, this retail sales data is published monthly, so it is also used to help predict GDP.\n",
    "\n",
    "The data spans from 1992 to 2020 and includes both total sales as well as details for subcategories of retail sales.\n",
    "\n",
    "Sales figures are in millions of US dollars."
   ]
  },
  {
   "cell_type": "code",
   "execution_count": 11,
   "id": "79e00d52",
   "metadata": {},
   "outputs": [],
   "source": [
    "import pandas as pd\n",
    "import sqlite3\n",
    "\n",
    "df = pd.read_csv('us_retail_sales.csv')\n",
    "\n",
    "conn = sqlite3.connect(\"sql-analysis.db\")\n",
    "df.to_sql('retail_sales', conn)"
   ]
  },
  {
   "cell_type": "code",
   "execution_count": 13,
   "id": "72ef953d",
   "metadata": {},
   "outputs": [],
   "source": [
    "import matplotlib as mpl\n",
    "import matplotlib.pyplot as plt"
   ]
  },
  {
   "cell_type": "markdown",
   "id": "70661e80",
   "metadata": {},
   "source": [
    "- Simple Trends"
   ]
  },
  {
   "cell_type": "code",
   "execution_count": 37,
   "id": "ce4cf6e7",
   "metadata": {},
   "outputs": [
    {
     "data": {
      "text/html": [
       "<div>\n",
       "<style scoped>\n",
       "    .dataframe tbody tr th:only-of-type {\n",
       "        vertical-align: middle;\n",
       "    }\n",
       "\n",
       "    .dataframe tbody tr th {\n",
       "        vertical-align: top;\n",
       "    }\n",
       "\n",
       "    .dataframe thead th {\n",
       "        text-align: right;\n",
       "    }\n",
       "</style>\n",
       "<table border=\"1\" class=\"dataframe\">\n",
       "  <thead>\n",
       "    <tr style=\"text-align: right;\">\n",
       "      <th></th>\n",
       "      <th>sales_month</th>\n",
       "      <th>sales</th>\n",
       "    </tr>\n",
       "  </thead>\n",
       "  <tbody>\n",
       "    <tr>\n",
       "      <th>0</th>\n",
       "      <td>1992-01-01</td>\n",
       "      <td>146376.0</td>\n",
       "    </tr>\n",
       "    <tr>\n",
       "      <th>1</th>\n",
       "      <td>1992-02-01</td>\n",
       "      <td>147079.0</td>\n",
       "    </tr>\n",
       "    <tr>\n",
       "      <th>2</th>\n",
       "      <td>1992-03-01</td>\n",
       "      <td>159336.0</td>\n",
       "    </tr>\n",
       "    <tr>\n",
       "      <th>3</th>\n",
       "      <td>1992-04-01</td>\n",
       "      <td>163669.0</td>\n",
       "    </tr>\n",
       "    <tr>\n",
       "      <th>4</th>\n",
       "      <td>1992-05-01</td>\n",
       "      <td>170068.0</td>\n",
       "    </tr>\n",
       "  </tbody>\n",
       "</table>\n",
       "</div>"
      ],
      "text/plain": [
       "  sales_month     sales\n",
       "0  1992-01-01  146376.0\n",
       "1  1992-02-01  147079.0\n",
       "2  1992-03-01  159336.0\n",
       "3  1992-04-01  163669.0\n",
       "4  1992-05-01  170068.0"
      ]
     },
     "execution_count": 37,
     "metadata": {},
     "output_type": "execute_result"
    }
   ],
   "source": [
    "query_01 = \"\"\"\n",
    "        SELECT sales_month, sales\n",
    "        FROM retail_sales\n",
    "        WHERE kind_of_business = 'Retail and food services sales, total'\n",
    "        \"\"\"\n",
    "\n",
    "sql_01 = pd.read_sql(query_01, conn)\n",
    "sql_01.head()"
   ]
  },
  {
   "cell_type": "markdown",
   "id": "f6c1bcf2",
   "metadata": {},
   "source": [
    "<img align=\"left\" width=\"437\" alt=\"Screen Shot 2022-04-18 at 4 28 01 PM\" src=\"https://user-images.githubusercontent.com/73784742/163780536-143cd751-373d-4d84-9e19-763575601ccf.png\">"
   ]
  },
  {
   "cell_type": "code",
   "execution_count": null,
   "id": "76992f09",
   "metadata": {},
   "outputs": [],
   "source": [
    "'''\n",
    "plt.subplots(figsize=(12, 8))\n",
    "plt.plot(sql_01['sales_month'], sql_01['sales'])\n",
    "\n",
    "plt.title(\"Monthly Retail and Food Services Sales\")\n",
    "plt.xlabel(\"Month\")\n",
    "plt.ylabel(\"$MM Sales\")\n",
    "\n",
    "plt.xticks(ticks=sql_01['sales_month'], labels=sql_01['sales_month'], rotation=45)\n",
    "plt.locator_params(axis='x', nbins=len(sql_01['sales_month'])/12)\n",
    "\n",
    "plt.show();\n",
    "'''"
   ]
  },
  {
   "cell_type": "code",
   "execution_count": 38,
   "id": "416862bf",
   "metadata": {},
   "outputs": [
    {
     "data": {
      "text/html": [
       "<div>\n",
       "<style scoped>\n",
       "    .dataframe tbody tr th:only-of-type {\n",
       "        vertical-align: middle;\n",
       "    }\n",
       "\n",
       "    .dataframe tbody tr th {\n",
       "        vertical-align: top;\n",
       "    }\n",
       "\n",
       "    .dataframe thead th {\n",
       "        text-align: right;\n",
       "    }\n",
       "</style>\n",
       "<table border=\"1\" class=\"dataframe\">\n",
       "  <thead>\n",
       "    <tr style=\"text-align: right;\">\n",
       "      <th></th>\n",
       "      <th>sales_year</th>\n",
       "      <th>sales</th>\n",
       "    </tr>\n",
       "  </thead>\n",
       "  <tbody>\n",
       "    <tr>\n",
       "      <th>0</th>\n",
       "      <td>1992</td>\n",
       "      <td>2014102.0</td>\n",
       "    </tr>\n",
       "    <tr>\n",
       "      <th>1</th>\n",
       "      <td>1993</td>\n",
       "      <td>2153095.0</td>\n",
       "    </tr>\n",
       "    <tr>\n",
       "      <th>2</th>\n",
       "      <td>1994</td>\n",
       "      <td>2330235.0</td>\n",
       "    </tr>\n",
       "    <tr>\n",
       "      <th>3</th>\n",
       "      <td>1995</td>\n",
       "      <td>2450628.0</td>\n",
       "    </tr>\n",
       "    <tr>\n",
       "      <th>4</th>\n",
       "      <td>1996</td>\n",
       "      <td>2603794.0</td>\n",
       "    </tr>\n",
       "  </tbody>\n",
       "</table>\n",
       "</div>"
      ],
      "text/plain": [
       "  sales_year      sales\n",
       "0       1992  2014102.0\n",
       "1       1993  2153095.0\n",
       "2       1994  2330235.0\n",
       "3       1995  2450628.0\n",
       "4       1996  2603794.0"
      ]
     },
     "execution_count": 38,
     "metadata": {},
     "output_type": "execute_result"
    }
   ],
   "source": [
    "query_02 = \"\"\"\n",
    "        SELECT strftime('%Y', sales_month) as sales_year, SUM(sales) as sales\n",
    "        FROM retail_sales\n",
    "        WHERE kind_of_business = 'Retail and food services sales, total'\n",
    "        GROUP BY sales_year\n",
    "        \"\"\"\n",
    "\n",
    "sql_02 = pd.read_sql(query_02, conn)\n",
    "sql_02.head()"
   ]
  },
  {
   "cell_type": "markdown",
   "id": "1d7c2b42",
   "metadata": {},
   "source": [
    "<img align=\"left\" width=\"435\" alt=\"Screen Shot 2022-04-18 at 4 31 29 PM\" src=\"https://user-images.githubusercontent.com/73784742/163781000-f42f328b-51a9-4131-8819-1eb89433d8b5.png\">"
   ]
  },
  {
   "cell_type": "code",
   "execution_count": null,
   "id": "d4e07013",
   "metadata": {},
   "outputs": [],
   "source": [
    "'''\n",
    "plt.subplots(figsize=(12, 8))\n",
    "plt.plot(sql_02['sales_year'], sql_02['sales'])\n",
    "\n",
    "plt.gcf().axes[0].yaxis.get_major_formatter().set_scientific(False)\n",
    "\n",
    "plt.title(\"Yearly Total Retail and Food Services Sales\")\n",
    "plt.xlabel(\"Year\")\n",
    "plt.ylabel(\"$MM Sales\")\n",
    "plt.xticks(ticks=sql_02['sales_year'], labels=sql_02['sales_year'], rotation=45)\n",
    "plt.locator_params(axis='x', nbins=len(sql_02['sales_year']))\n",
    "\n",
    "plt.show();\n",
    "'''"
   ]
  },
  {
   "cell_type": "markdown",
   "id": "129e3111",
   "metadata": {},
   "source": [
    "- Comparing Components"
   ]
  },
  {
   "cell_type": "code",
   "execution_count": 65,
   "id": "ff784204",
   "metadata": {},
   "outputs": [
    {
     "data": {
      "text/html": [
       "<div>\n",
       "<style scoped>\n",
       "    .dataframe tbody tr th:only-of-type {\n",
       "        vertical-align: middle;\n",
       "    }\n",
       "\n",
       "    .dataframe tbody tr th {\n",
       "        vertical-align: top;\n",
       "    }\n",
       "\n",
       "    .dataframe thead th {\n",
       "        text-align: right;\n",
       "    }\n",
       "</style>\n",
       "<table border=\"1\" class=\"dataframe\">\n",
       "  <thead>\n",
       "    <tr style=\"text-align: right;\">\n",
       "      <th></th>\n",
       "      <th>sales_year</th>\n",
       "      <th>kind_of_business</th>\n",
       "      <th>sales</th>\n",
       "    </tr>\n",
       "  </thead>\n",
       "  <tbody>\n",
       "    <tr>\n",
       "      <th>0</th>\n",
       "      <td>1992</td>\n",
       "      <td>Book stores</td>\n",
       "      <td>8327.0</td>\n",
       "    </tr>\n",
       "    <tr>\n",
       "      <th>1</th>\n",
       "      <td>1992</td>\n",
       "      <td>Hobby, toy, and game stores</td>\n",
       "      <td>11251.0</td>\n",
       "    </tr>\n",
       "    <tr>\n",
       "      <th>2</th>\n",
       "      <td>1992</td>\n",
       "      <td>Sporting goods stores</td>\n",
       "      <td>15583.0</td>\n",
       "    </tr>\n",
       "    <tr>\n",
       "      <th>3</th>\n",
       "      <td>1993</td>\n",
       "      <td>Book stores</td>\n",
       "      <td>9108.0</td>\n",
       "    </tr>\n",
       "    <tr>\n",
       "      <th>4</th>\n",
       "      <td>1993</td>\n",
       "      <td>Hobby, toy, and game stores</td>\n",
       "      <td>11651.0</td>\n",
       "    </tr>\n",
       "    <tr>\n",
       "      <th>...</th>\n",
       "      <td>...</td>\n",
       "      <td>...</td>\n",
       "      <td>...</td>\n",
       "    </tr>\n",
       "    <tr>\n",
       "      <th>82</th>\n",
       "      <td>2019</td>\n",
       "      <td>Hobby, toy, and game stores</td>\n",
       "      <td>16261.0</td>\n",
       "    </tr>\n",
       "    <tr>\n",
       "      <th>83</th>\n",
       "      <td>2019</td>\n",
       "      <td>Sporting goods stores</td>\n",
       "      <td>43808.0</td>\n",
       "    </tr>\n",
       "    <tr>\n",
       "      <th>84</th>\n",
       "      <td>2020</td>\n",
       "      <td>Book stores</td>\n",
       "      <td>6425.0</td>\n",
       "    </tr>\n",
       "    <tr>\n",
       "      <th>85</th>\n",
       "      <td>2020</td>\n",
       "      <td>Hobby, toy, and game stores</td>\n",
       "      <td>17287.0</td>\n",
       "    </tr>\n",
       "    <tr>\n",
       "      <th>86</th>\n",
       "      <td>2020</td>\n",
       "      <td>Sporting goods stores</td>\n",
       "      <td>53344.0</td>\n",
       "    </tr>\n",
       "  </tbody>\n",
       "</table>\n",
       "<p>87 rows × 3 columns</p>\n",
       "</div>"
      ],
      "text/plain": [
       "   sales_year             kind_of_business    sales\n",
       "0        1992                  Book stores   8327.0\n",
       "1        1992  Hobby, toy, and game stores  11251.0\n",
       "2        1992        Sporting goods stores  15583.0\n",
       "3        1993                  Book stores   9108.0\n",
       "4        1993  Hobby, toy, and game stores  11651.0\n",
       "..        ...                          ...      ...\n",
       "82       2019  Hobby, toy, and game stores  16261.0\n",
       "83       2019        Sporting goods stores  43808.0\n",
       "84       2020                  Book stores   6425.0\n",
       "85       2020  Hobby, toy, and game stores  17287.0\n",
       "86       2020        Sporting goods stores  53344.0\n",
       "\n",
       "[87 rows x 3 columns]"
      ]
     },
     "execution_count": 65,
     "metadata": {},
     "output_type": "execute_result"
    }
   ],
   "source": [
    "query_03 = \"\"\"\n",
    "        SELECT strftime('%Y', sales_month) as sales_year, kind_of_business, SUM(sales) as sales\n",
    "        FROM retail_sales\n",
    "        WHERE kind_of_business IN ('Book stores', 'Sporting goods stores', 'Hobby, toy, and game stores')\n",
    "        GROUP BY 1, 2\n",
    "        \"\"\"\n",
    "\n",
    "sql_03 = pd.read_sql(query_03, conn)\n",
    "sql_03"
   ]
  },
  {
   "cell_type": "markdown",
   "id": "fcfa0d2c",
   "metadata": {},
   "source": [
    "<img align=\"left\" width=\"435\" alt=\"Screen Shot 2022-04-18 at 4 40 33 PM\" src=\"https://user-images.githubusercontent.com/73784742/163782175-0fc4e8a8-54a5-4356-8248-d27c7c5fed88.png\"> "
   ]
  },
  {
   "cell_type": "code",
   "execution_count": null,
   "id": "423f1e3a",
   "metadata": {},
   "outputs": [],
   "source": []
  }
 ],
 "metadata": {
  "kernelspec": {
   "display_name": "Python 3",
   "language": "python",
   "name": "python3"
  },
  "language_info": {
   "codemirror_mode": {
    "name": "ipython",
    "version": 3
   },
   "file_extension": ".py",
   "mimetype": "text/x-python",
   "name": "python",
   "nbconvert_exporter": "python",
   "pygments_lexer": "ipython3",
   "version": "3.8.8"
  }
 },
 "nbformat": 4,
 "nbformat_minor": 5
}
