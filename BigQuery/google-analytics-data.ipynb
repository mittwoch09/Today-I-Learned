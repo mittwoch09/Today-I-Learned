{
  "nbformat": 4,
  "nbformat_minor": 0,
  "metadata": {
    "colab": {
      "name": "google-analytics-data.ipynb",
      "provenance": [],
      "collapsed_sections": []
    },
    "kernelspec": {
      "name": "python3",
      "display_name": "Python 3"
    },
    "language_info": {
      "name": "python"
    }
  },
  "cells": [
    {
      "cell_type": "markdown",
      "source": [
        "Goal\n",
        "The goal of this project is to act as a Web Analyst for the Google Merchandise Store, and analyze Google Analytics data from Bigquery using SQL. The period for this analysis will be 2016/8/1 - 2017/8/1.\n",
        "\n",
        "Site: https://shop.googlemerchandisestore.com/\n",
        "\n",
        "For this analysis we'll focus on 3 main goals:\n",
        "\n",
        "- Understand the composition of current site traffic\n",
        "- Understand the flow and conversion path of users\n",
        "- Forecast product demand\n",
        "\n",
        "In addition, we'll use the following steps as a framework to organize our analysis:\n",
        "\n",
        "1. Extract data and confirm structure/contents\n",
        "2. Make our goals more concrete\n",
        "3. Explore and analyze data\n",
        "4. Visualize insights and interpret results"
      ],
      "metadata": {
        "id": "hBkDj_9z513R"
      }
    },
    {
      "cell_type": "code",
      "source": [
        "from google.colab import auth\n",
        "auth.authenticate_user()\n",
        "print('Authenticated')"
      ],
      "metadata": {
        "colab": {
          "base_uri": "https://localhost:8080/"
        },
        "id": "_1s63zMo3kgk",
        "outputId": "fae37039-d7aa-44d6-d60c-fd785a07729d"
      },
      "execution_count": 2,
      "outputs": [
        {
          "output_type": "stream",
          "name": "stdout",
          "text": [
            "Authenticated\n"
          ]
        }
      ]
    },
    {
      "cell_type": "markdown",
      "source": [
        "### 1. Extract Data and Confirm Structure/Contents\n",
        "\n",
        "First, let's connect to Bigquery and see what kind of data we'll be working with and how it's structured."
      ],
      "metadata": {
        "id": "kGtPkn8p6iXz"
      }
    },
    {
      "cell_type": "code",
      "execution_count": 3,
      "metadata": {
        "id": "XiEGrf93uywB"
      },
      "outputs": [],
      "source": [
        "from google.cloud import bigquery\n",
        "\n",
        "# Create client object\n",
        "client = bigquery.Client()\n",
        "\n",
        "# Create dataset reference\n",
        "dataset_ref = client.dataset(\"google_analytics_sample\", project=\"bigquery-public-data\")\n",
        "\n",
        "# Retrieve dataset from reference\n",
        "dataset = client.get_dataset(dataset_ref)"
      ]
    },
    {
      "cell_type": "code",
      "source": [
        "# View tables in dataset\n",
        "[x.table_id for x in client.list_tables(dataset)][:5]"
      ],
      "metadata": {
        "id": "0vhZHmhbvLJz",
        "colab": {
          "base_uri": "https://localhost:8080/"
        },
        "outputId": "f56b4ed4-c880-463f-da47-d537ed30a8cf"
      },
      "execution_count": 6,
      "outputs": [
        {
          "output_type": "execute_result",
          "data": {
            "text/plain": [
              "['ga_sessions_20160801',\n",
              " 'ga_sessions_20160802',\n",
              " 'ga_sessions_20160803',\n",
              " 'ga_sessions_20160804',\n",
              " 'ga_sessions_20160805']"
            ]
          },
          "metadata": {},
          "execution_count": 6
        }
      ]
    },
    {
      "cell_type": "code",
      "source": [
        "# Create table reference\n",
        "table_ref_20160801 = dataset_ref.table('ga_sessions_20160801')\n",
        "\n",
        "# Retrieve table from reference\n",
        "table_20160801 = client.get_table(table_ref_20160801)\n",
        "\n",
        "# View columns\n",
        "client.list_rows(table_20160801, max_results=5).to_dataframe()"
      ],
      "metadata": {
        "colab": {
          "base_uri": "https://localhost:8080/",
          "height": 530
        },
        "id": "VZhn3e3J5LL8",
        "outputId": "fc90b374-3afb-4627-cb42-3a7d96ed7d9c"
      },
      "execution_count": 7,
      "outputs": [
        {
          "output_type": "execute_result",
          "data": {
            "text/plain": [
              "  visitorId  visitNumber     visitId  visitStartTime      date  \\\n",
              "0      None            1  1470117657      1470117657  20160801   \n",
              "1      None          151  1470083489      1470083489  20160801   \n",
              "2      None            1  1470052694      1470052694  20160801   \n",
              "3      None            1  1470061879      1470061879  20160801   \n",
              "4      None            1  1470090830      1470090830  20160801   \n",
              "\n",
              "                                              totals  \\\n",
              "0  {'visits': 1, 'hits': 3, 'pageviews': 3, 'time...   \n",
              "1  {'visits': 1, 'hits': 3, 'pageviews': 3, 'time...   \n",
              "2  {'visits': 1, 'hits': 4, 'pageviews': 3, 'time...   \n",
              "3  {'visits': 1, 'hits': 4, 'pageviews': 4, 'time...   \n",
              "4  {'visits': 1, 'hits': 4, 'pageviews': 2, 'time...   \n",
              "\n",
              "                                       trafficSource  \\\n",
              "0  {'referralPath': '/yt/about/', 'campaign': '(n...   \n",
              "1  {'referralPath': '/yt/about/', 'campaign': '(n...   \n",
              "2  {'referralPath': '/yt/about/', 'campaign': '(n...   \n",
              "3  {'referralPath': '/yt/about/', 'campaign': '(n...   \n",
              "4  {'referralPath': '/yt/about/', 'campaign': '(n...   \n",
              "\n",
              "                                              device  \\\n",
              "0  {'browser': 'Internet Explorer', 'browserVersi...   \n",
              "1  {'browser': 'Chrome', 'browserVersion': 'not a...   \n",
              "2  {'browser': 'Chrome', 'browserVersion': 'not a...   \n",
              "3  {'browser': 'Firefox', 'browserVersion': 'not ...   \n",
              "4  {'browser': 'Internet Explorer', 'browserVersi...   \n",
              "\n",
              "                                          geoNetwork  \\\n",
              "0  {'continent': 'Americas', 'subContinent': 'Nor...   \n",
              "1  {'continent': 'Americas', 'subContinent': 'Nor...   \n",
              "2  {'continent': 'Asia', 'subContinent': 'Southea...   \n",
              "3  {'continent': 'Americas', 'subContinent': 'Nor...   \n",
              "4  {'continent': 'Americas', 'subContinent': 'Nor...   \n",
              "\n",
              "                           customDimensions  \\\n",
              "0  [{'index': 4, 'value': 'North America'}]   \n",
              "1  [{'index': 4, 'value': 'North America'}]   \n",
              "2                                        []   \n",
              "3  [{'index': 4, 'value': 'North America'}]   \n",
              "4  [{'index': 4, 'value': 'North America'}]   \n",
              "\n",
              "                                                hits        fullVisitorId  \\\n",
              "0  [{'hitNumber': 1, 'time': 0, 'hour': 23, 'minu...  7194065619159478122   \n",
              "1  [{'hitNumber': 1, 'time': 0, 'hour': 13, 'minu...  8159312408158297118   \n",
              "2  [{'hitNumber': 1, 'time': 0, 'hour': 4, 'minut...  9236304747882138291   \n",
              "3  [{'hitNumber': 1, 'time': 0, 'hour': 7, 'minut...  1792676004815023069   \n",
              "4  [{'hitNumber': 1, 'time': 0, 'hour': 15, 'minu...  7305625498291809599   \n",
              "\n",
              "  userId channelGrouping  socialEngagementType  \n",
              "0   None          Social  Not Socially Engaged  \n",
              "1   None          Social  Not Socially Engaged  \n",
              "2   None          Social  Not Socially Engaged  \n",
              "3   None          Social  Not Socially Engaged  \n",
              "4   None          Social  Not Socially Engaged  "
            ],
            "text/html": [
              "\n",
              "  <div id=\"df-d00cdc19-34fa-4984-bcb5-e417133aa2e9\">\n",
              "    <div class=\"colab-df-container\">\n",
              "      <div>\n",
              "<style scoped>\n",
              "    .dataframe tbody tr th:only-of-type {\n",
              "        vertical-align: middle;\n",
              "    }\n",
              "\n",
              "    .dataframe tbody tr th {\n",
              "        vertical-align: top;\n",
              "    }\n",
              "\n",
              "    .dataframe thead th {\n",
              "        text-align: right;\n",
              "    }\n",
              "</style>\n",
              "<table border=\"1\" class=\"dataframe\">\n",
              "  <thead>\n",
              "    <tr style=\"text-align: right;\">\n",
              "      <th></th>\n",
              "      <th>visitorId</th>\n",
              "      <th>visitNumber</th>\n",
              "      <th>visitId</th>\n",
              "      <th>visitStartTime</th>\n",
              "      <th>date</th>\n",
              "      <th>totals</th>\n",
              "      <th>trafficSource</th>\n",
              "      <th>device</th>\n",
              "      <th>geoNetwork</th>\n",
              "      <th>customDimensions</th>\n",
              "      <th>hits</th>\n",
              "      <th>fullVisitorId</th>\n",
              "      <th>userId</th>\n",
              "      <th>channelGrouping</th>\n",
              "      <th>socialEngagementType</th>\n",
              "    </tr>\n",
              "  </thead>\n",
              "  <tbody>\n",
              "    <tr>\n",
              "      <th>0</th>\n",
              "      <td>None</td>\n",
              "      <td>1</td>\n",
              "      <td>1470117657</td>\n",
              "      <td>1470117657</td>\n",
              "      <td>20160801</td>\n",
              "      <td>{'visits': 1, 'hits': 3, 'pageviews': 3, 'time...</td>\n",
              "      <td>{'referralPath': '/yt/about/', 'campaign': '(n...</td>\n",
              "      <td>{'browser': 'Internet Explorer', 'browserVersi...</td>\n",
              "      <td>{'continent': 'Americas', 'subContinent': 'Nor...</td>\n",
              "      <td>[{'index': 4, 'value': 'North America'}]</td>\n",
              "      <td>[{'hitNumber': 1, 'time': 0, 'hour': 23, 'minu...</td>\n",
              "      <td>7194065619159478122</td>\n",
              "      <td>None</td>\n",
              "      <td>Social</td>\n",
              "      <td>Not Socially Engaged</td>\n",
              "    </tr>\n",
              "    <tr>\n",
              "      <th>1</th>\n",
              "      <td>None</td>\n",
              "      <td>151</td>\n",
              "      <td>1470083489</td>\n",
              "      <td>1470083489</td>\n",
              "      <td>20160801</td>\n",
              "      <td>{'visits': 1, 'hits': 3, 'pageviews': 3, 'time...</td>\n",
              "      <td>{'referralPath': '/yt/about/', 'campaign': '(n...</td>\n",
              "      <td>{'browser': 'Chrome', 'browserVersion': 'not a...</td>\n",
              "      <td>{'continent': 'Americas', 'subContinent': 'Nor...</td>\n",
              "      <td>[{'index': 4, 'value': 'North America'}]</td>\n",
              "      <td>[{'hitNumber': 1, 'time': 0, 'hour': 13, 'minu...</td>\n",
              "      <td>8159312408158297118</td>\n",
              "      <td>None</td>\n",
              "      <td>Social</td>\n",
              "      <td>Not Socially Engaged</td>\n",
              "    </tr>\n",
              "    <tr>\n",
              "      <th>2</th>\n",
              "      <td>None</td>\n",
              "      <td>1</td>\n",
              "      <td>1470052694</td>\n",
              "      <td>1470052694</td>\n",
              "      <td>20160801</td>\n",
              "      <td>{'visits': 1, 'hits': 4, 'pageviews': 3, 'time...</td>\n",
              "      <td>{'referralPath': '/yt/about/', 'campaign': '(n...</td>\n",
              "      <td>{'browser': 'Chrome', 'browserVersion': 'not a...</td>\n",
              "      <td>{'continent': 'Asia', 'subContinent': 'Southea...</td>\n",
              "      <td>[]</td>\n",
              "      <td>[{'hitNumber': 1, 'time': 0, 'hour': 4, 'minut...</td>\n",
              "      <td>9236304747882138291</td>\n",
              "      <td>None</td>\n",
              "      <td>Social</td>\n",
              "      <td>Not Socially Engaged</td>\n",
              "    </tr>\n",
              "    <tr>\n",
              "      <th>3</th>\n",
              "      <td>None</td>\n",
              "      <td>1</td>\n",
              "      <td>1470061879</td>\n",
              "      <td>1470061879</td>\n",
              "      <td>20160801</td>\n",
              "      <td>{'visits': 1, 'hits': 4, 'pageviews': 4, 'time...</td>\n",
              "      <td>{'referralPath': '/yt/about/', 'campaign': '(n...</td>\n",
              "      <td>{'browser': 'Firefox', 'browserVersion': 'not ...</td>\n",
              "      <td>{'continent': 'Americas', 'subContinent': 'Nor...</td>\n",
              "      <td>[{'index': 4, 'value': 'North America'}]</td>\n",
              "      <td>[{'hitNumber': 1, 'time': 0, 'hour': 7, 'minut...</td>\n",
              "      <td>1792676004815023069</td>\n",
              "      <td>None</td>\n",
              "      <td>Social</td>\n",
              "      <td>Not Socially Engaged</td>\n",
              "    </tr>\n",
              "    <tr>\n",
              "      <th>4</th>\n",
              "      <td>None</td>\n",
              "      <td>1</td>\n",
              "      <td>1470090830</td>\n",
              "      <td>1470090830</td>\n",
              "      <td>20160801</td>\n",
              "      <td>{'visits': 1, 'hits': 4, 'pageviews': 2, 'time...</td>\n",
              "      <td>{'referralPath': '/yt/about/', 'campaign': '(n...</td>\n",
              "      <td>{'browser': 'Internet Explorer', 'browserVersi...</td>\n",
              "      <td>{'continent': 'Americas', 'subContinent': 'Nor...</td>\n",
              "      <td>[{'index': 4, 'value': 'North America'}]</td>\n",
              "      <td>[{'hitNumber': 1, 'time': 0, 'hour': 15, 'minu...</td>\n",
              "      <td>7305625498291809599</td>\n",
              "      <td>None</td>\n",
              "      <td>Social</td>\n",
              "      <td>Not Socially Engaged</td>\n",
              "    </tr>\n",
              "  </tbody>\n",
              "</table>\n",
              "</div>\n",
              "      <button class=\"colab-df-convert\" onclick=\"convertToInteractive('df-d00cdc19-34fa-4984-bcb5-e417133aa2e9')\"\n",
              "              title=\"Convert this dataframe to an interactive table.\"\n",
              "              style=\"display:none;\">\n",
              "        \n",
              "  <svg xmlns=\"http://www.w3.org/2000/svg\" height=\"24px\"viewBox=\"0 0 24 24\"\n",
              "       width=\"24px\">\n",
              "    <path d=\"M0 0h24v24H0V0z\" fill=\"none\"/>\n",
              "    <path d=\"M18.56 5.44l.94 2.06.94-2.06 2.06-.94-2.06-.94-.94-2.06-.94 2.06-2.06.94zm-11 1L8.5 8.5l.94-2.06 2.06-.94-2.06-.94L8.5 2.5l-.94 2.06-2.06.94zm10 10l.94 2.06.94-2.06 2.06-.94-2.06-.94-.94-2.06-.94 2.06-2.06.94z\"/><path d=\"M17.41 7.96l-1.37-1.37c-.4-.4-.92-.59-1.43-.59-.52 0-1.04.2-1.43.59L10.3 9.45l-7.72 7.72c-.78.78-.78 2.05 0 2.83L4 21.41c.39.39.9.59 1.41.59.51 0 1.02-.2 1.41-.59l7.78-7.78 2.81-2.81c.8-.78.8-2.07 0-2.86zM5.41 20L4 18.59l7.72-7.72 1.47 1.35L5.41 20z\"/>\n",
              "  </svg>\n",
              "      </button>\n",
              "      \n",
              "  <style>\n",
              "    .colab-df-container {\n",
              "      display:flex;\n",
              "      flex-wrap:wrap;\n",
              "      gap: 12px;\n",
              "    }\n",
              "\n",
              "    .colab-df-convert {\n",
              "      background-color: #E8F0FE;\n",
              "      border: none;\n",
              "      border-radius: 50%;\n",
              "      cursor: pointer;\n",
              "      display: none;\n",
              "      fill: #1967D2;\n",
              "      height: 32px;\n",
              "      padding: 0 0 0 0;\n",
              "      width: 32px;\n",
              "    }\n",
              "\n",
              "    .colab-df-convert:hover {\n",
              "      background-color: #E2EBFA;\n",
              "      box-shadow: 0px 1px 2px rgba(60, 64, 67, 0.3), 0px 1px 3px 1px rgba(60, 64, 67, 0.15);\n",
              "      fill: #174EA6;\n",
              "    }\n",
              "\n",
              "    [theme=dark] .colab-df-convert {\n",
              "      background-color: #3B4455;\n",
              "      fill: #D2E3FC;\n",
              "    }\n",
              "\n",
              "    [theme=dark] .colab-df-convert:hover {\n",
              "      background-color: #434B5C;\n",
              "      box-shadow: 0px 1px 3px 1px rgba(0, 0, 0, 0.15);\n",
              "      filter: drop-shadow(0px 1px 2px rgba(0, 0, 0, 0.3));\n",
              "      fill: #FFFFFF;\n",
              "    }\n",
              "  </style>\n",
              "\n",
              "      <script>\n",
              "        const buttonEl =\n",
              "          document.querySelector('#df-d00cdc19-34fa-4984-bcb5-e417133aa2e9 button.colab-df-convert');\n",
              "        buttonEl.style.display =\n",
              "          google.colab.kernel.accessAllowed ? 'block' : 'none';\n",
              "\n",
              "        async function convertToInteractive(key) {\n",
              "          const element = document.querySelector('#df-d00cdc19-34fa-4984-bcb5-e417133aa2e9');\n",
              "          const dataTable =\n",
              "            await google.colab.kernel.invokeFunction('convertToInteractive',\n",
              "                                                     [key], {});\n",
              "          if (!dataTable) return;\n",
              "\n",
              "          const docLinkHtml = 'Like what you see? Visit the ' +\n",
              "            '<a target=\"_blank\" href=https://colab.research.google.com/notebooks/data_table.ipynb>data table notebook</a>'\n",
              "            + ' to learn more about interactive tables.';\n",
              "          element.innerHTML = '';\n",
              "          dataTable['output_type'] = 'display_data';\n",
              "          await google.colab.output.renderOutput(dataTable, element);\n",
              "          const docLink = document.createElement('div');\n",
              "          docLink.innerHTML = docLinkHtml;\n",
              "          element.appendChild(docLink);\n",
              "        }\n",
              "      </script>\n",
              "    </div>\n",
              "  </div>\n",
              "  "
            ]
          },
          "metadata": {},
          "execution_count": 7
        }
      ]
    },
    {
      "cell_type": "markdown",
      "source": [
        "It looks like the totals, trafficSource, device, geoNetwork, customDimensions, and hits columns contain nested data.\n",
        "\n",
        "Let's check the schema for these columns and see what kind of data they contain."
      ],
      "metadata": {
        "id": "AW9R07QS60Mc"
      }
    },
    {
      "cell_type": "code",
      "source": [
        ""
      ],
      "metadata": {
        "id": "WBoRvVol61kL"
      },
      "execution_count": null,
      "outputs": []
    }
  ]
}